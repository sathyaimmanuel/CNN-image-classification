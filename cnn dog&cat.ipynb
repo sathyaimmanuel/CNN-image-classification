{
 "cells": [
  {
   "cell_type": "code",
   "execution_count": 1,
   "id": "d101f67c-1ea9-4fea-abdd-06750dfb8d76",
   "metadata": {},
   "outputs": [
    {
     "name": "stdout",
     "output_type": "stream",
     "text": [
      "Collecting easygui\n",
      "  Using cached easygui-0.98.3-py2.py3-none-any.whl.metadata (8.4 kB)\n",
      "Using cached easygui-0.98.3-py2.py3-none-any.whl (92 kB)\n",
      "Installing collected packages: easygui\n",
      "Successfully installed easygui-0.98.3\n",
      "Note: you may need to restart the kernel to use updated packages.\n"
     ]
    }
   ],
   "source": [
    "pip install easygui\n"
   ]
  },
  {
   "cell_type": "code",
   "execution_count": 2,
   "id": "730be583-e84e-4ed7-b292-0c960f072fdb",
   "metadata": {},
   "outputs": [],
   "source": [
    "import pandas as pd\n",
    "import matplotlib.pyplot as plt\n",
    "import numpy as np\n",
    "import os,shutil\n",
    "import easygui"
   ]
  },
  {
   "cell_type": "code",
   "execution_count": 8,
   "id": "eb9a3c89-2a3f-4271-80f4-8b91d9dd81bc",
   "metadata": {},
   "outputs": [],
   "source": [
    "original_dataset_dir = \"C:\\\\Users\\\\Immanuel\\\\Downloads\\\\train\\\\train\"\n",
    "base_dir = \"C:\\\\Users\\\\Immanuel\\\\Downloads\\\\train\\\\cats_and_dogs\"\n",
    "os.mkdir(base_dir)\n",
    "train_dir = os.path.join(base_dir,'train')\n",
    "os.mkdir(train_dir)\n",
    "validation_dir = os.path.join(base_dir,'validation')\n",
    "os.mkdir(validation_dir)\n",
    "test_dir = os.path.join(base_dir,'test')\n",
    "os.mkdir(test_dir)\n",
    "train_cats_dir = os.path.join(train_dir,'cats')\n",
    "os.mkdir(train_cats_dir)\n",
    "train_dogs_dir = os.path.join(train_dir,'dogs')\n",
    "os.mkdir(train_dogs_dir)\n",
    "validation_cats_dir = os.path.join(validation_dir,'cats')\n",
    "os.mkdir(validation_cats_dir)\n",
    "validation_dogs_dir = os.path.join(validation_dir,'dogs')\n",
    "os.mkdir(validation_dogs_dir)\n",
    "test_cats_dir = os.path.join(test_dir,'cats')\n",
    "os.mkdir(test_cats_dir)\n",
    "test_dogs_dir = os.path.join(test_dir,'dogs')\n",
    "os.mkdir(test_dogs_dir)\n",
    "\n",
    "fnames = ['cat.{}.jpg'.format(i) for i in range(7500)]\n",
    "for fname in fnames:\n",
    "    src = os.path.join(original_dataset_dir,fname)\n",
    "    dst = os.path.join(train_cats_dir,fname)\n",
    "    shutil.copyfile(src,dst)\n",
    "\n",
    "fnames = ['cat.{}.jpg'.format(i) for i in range(7500,10000)]\n",
    "for fname in fnames:\n",
    "    src = os.path.join(original_dataset_dir,fname)\n",
    "    dst = os.path.join(validation_cats_dir,fname)\n",
    "    shutil.copyfile(src,dst)\n",
    "\n",
    "fnames = ['cat.{}.jpg'.format(i) for i in range(10000,12500)]\n",
    "for fname in fnames:\n",
    "    src = os.path.join(original_dataset_dir,fname)\n",
    "    dst = os.path.join(test_cats_dir,fname)\n",
    "    shutil.copyfile(src,dst)\n",
    "\n",
    "fnames = ['dog.{}.jpg'.format(i) for i in range(7500)]\n",
    "for fname in fnames:\n",
    "    src = os.path.join(original_dataset_dir,fname)\n",
    "    dst = os.path.join(train_dogs_dir,fname)\n",
    "    shutil.copyfile(src,dst)\n",
    "\n",
    "fnames = ['dog.{}.jpg'.format(i) for i in range(7500,10000)]\n",
    "for fname in fnames:\n",
    "    src = os.path.join(original_dataset_dir,fname)\n",
    "    dst = os.path.join(validation_dogs_dir,fname)\n",
    "    shutil.copyfile(src,dst)\n",
    "\n",
    "fnames = ['dog.{}.jpg'.format(i) for i in range(10000,12500)]\n",
    "for fname in fnames:\n",
    "    src = os.path.join(original_dataset_dir,fname)\n",
    "    dst = os.path.join(test_dogs_dir,fname)\n",
    "    shutil.copyfile(src,dst)\n"
   ]
  },
  {
   "cell_type": "code",
   "execution_count": 14,
   "id": "687207b8-48b6-406d-9bf4-c82d857bf9d9",
   "metadata": {},
   "outputs": [
    {
     "name": "stdout",
     "output_type": "stream",
     "text": [
      "total training cat images : 7500\n",
      "total training dogs images : 7500\n",
      "total validation cat images : 2500\n",
      "total validation dogs images : 2500\n",
      "total testing cat images : 2500\n",
      "total testing dogs images : 2500\n"
     ]
    }
   ],
   "source": [
    "print('total training cat images :',len(os.listdir(train_cats_dir)))\n",
    "print('total training dogs images :',len(os.listdir(train_dogs_dir)))\n",
    "print('total validation cat images :',len(os.listdir(validation_cats_dir)))\n",
    "print('total validation dogs images :',len(os.listdir(validation_dogs_dir)))\n",
    "print('total testing cat images :',len(os.listdir(test_cats_dir)))\n",
    "print('total testing dogs images :',len(os.listdir(test_dogs_dir)))"
   ]
  },
  {
   "cell_type": "code",
   "execution_count": 16,
   "id": "49593fe0-aca2-4bce-a66c-6b9d3983e38e",
   "metadata": {},
   "outputs": [],
   "source": [
    "file = plt.imread(r\"C:\\Users\\Immanuel\\Downloads\\train\\cats_and_dogs\\test\\dogs\\dog.12494.jpg\")"
   ]
  },
  {
   "cell_type": "code",
   "execution_count": 18,
   "id": "fc729536-9df7-46fa-9991-2c3e4d485583",
   "metadata": {},
   "outputs": [
    {
     "data": {
      "text/plain": [
       "(272, 265, 3)"
      ]
     },
     "execution_count": 18,
     "metadata": {},
     "output_type": "execute_result"
    }
   ],
   "source": [
    "file.shape"
   ]
  },
  {
   "cell_type": "code",
   "execution_count": 21,
   "id": "9991f02e-d230-4674-bb8c-d7306b45991e",
   "metadata": {},
   "outputs": [],
   "source": [
    "from keras import models,layers"
   ]
  },
  {
   "cell_type": "code",
   "execution_count": 23,
   "id": "e57bd488-47b7-48e7-a4fc-c76898b46b8b",
   "metadata": {},
   "outputs": [
    {
     "name": "stdout",
     "output_type": "stream",
     "text": [
      "Model: \"sequential_1\"\n",
      "_________________________________________________________________\n",
      " Layer (type)                Output Shape              Param #   \n",
      "=================================================================\n",
      " dense_6 (Dense)             (None, 512)               96000512  \n",
      "                                                                 \n",
      " dense_7 (Dense)             (None, 256)               131328    \n",
      "                                                                 \n",
      " dense_8 (Dense)             (None, 128)               32896     \n",
      "                                                                 \n",
      " dense_9 (Dense)             (None, 64)                8256      \n",
      "                                                                 \n",
      " dense_10 (Dense)            (None, 32)                2080      \n",
      "                                                                 \n",
      " dense_11 (Dense)            (None, 10)                330       \n",
      "                                                                 \n",
      "=================================================================\n",
      "Total params: 96,175,402\n",
      "Trainable params: 96,175,402\n",
      "Non-trainable params: 0\n",
      "_________________________________________________________________\n"
     ]
    }
   ],
   "source": [
    "network = models.Sequential()\n",
    "network.add(layers.Dense(512, activation='relu', input_shape = (250*250*3,)))\n",
    "network.add(layers.Dense(256, activation='relu'))\n",
    "network.add(layers.Dense(128, activation='relu'))\n",
    "network.add(layers.Dense(64, activation='relu'))\n",
    "network.add(layers.Dense(32, activation='relu'))\n",
    "network.add(layers.Dense(10, activation='sigmoid'))\n",
    "\n",
    "network.summary()"
   ]
  },
  {
   "cell_type": "code",
   "execution_count": 27,
   "id": "dc00b9f4-0874-4089-832c-8c316c3fa712",
   "metadata": {},
   "outputs": [],
   "source": [
    "model = models.Sequential()\n",
    "model.add(layers.Conv2D(32,(3,3),activation='relu',input_shape =(150,150,3)))\n",
    "\n",
    "model.add(layers.MaxPooling2D(2,2))\n",
    "model.add(layers.Conv2D(64,(3,3),activation='relu'))\n",
    "model.add(layers.MaxPooling2D(2,2))\n",
    "model.add(layers.Conv2D(128,(3,3),activation='relu'))\n",
    "model.add(layers.MaxPooling2D(2,2))\n",
    "model.add(layers.Conv2D(256,(3,3),activation='relu'))\n",
    "model.add(layers.MaxPooling2D(2,2))\n",
    "model.add(layers.Flatten())\n",
    "model.add(layers.Dense(256, activation='relu'))\n",
    "model.add(layers.Dense(128, activation='relu'))\n",
    "model.add(layers.Dense(64, activation='relu'))\n",
    "model.add(layers.Dense(32, activation='relu'))\n",
    "model.add(layers.Dense(1, activation='sigmoid'))\n"
   ]
  },
  {
   "cell_type": "code",
   "execution_count": 28,
   "id": "17753bc3-1883-4ada-a527-01964fa21a37",
   "metadata": {},
   "outputs": [
    {
     "name": "stdout",
     "output_type": "stream",
     "text": [
      "Model: \"sequential_4\"\n",
      "_________________________________________________________________\n",
      " Layer (type)                Output Shape              Param #   \n",
      "=================================================================\n",
      " conv2d_5 (Conv2D)           (None, 148, 148, 32)      896       \n",
      "                                                                 \n",
      " max_pooling2d_4 (MaxPooling  (None, 74, 74, 32)       0         \n",
      " 2D)                                                             \n",
      "                                                                 \n",
      " conv2d_6 (Conv2D)           (None, 72, 72, 64)        18496     \n",
      "                                                                 \n",
      " max_pooling2d_5 (MaxPooling  (None, 36, 36, 64)       0         \n",
      " 2D)                                                             \n",
      "                                                                 \n",
      " conv2d_7 (Conv2D)           (None, 34, 34, 128)       73856     \n",
      "                                                                 \n",
      " max_pooling2d_6 (MaxPooling  (None, 17, 17, 128)      0         \n",
      " 2D)                                                             \n",
      "                                                                 \n",
      " conv2d_8 (Conv2D)           (None, 15, 15, 256)       295168    \n",
      "                                                                 \n",
      " max_pooling2d_7 (MaxPooling  (None, 7, 7, 256)        0         \n",
      " 2D)                                                             \n",
      "                                                                 \n",
      " flatten_1 (Flatten)         (None, 12544)             0         \n",
      "                                                                 \n",
      " dense_17 (Dense)            (None, 256)               3211520   \n",
      "                                                                 \n",
      " dense_18 (Dense)            (None, 128)               32896     \n",
      "                                                                 \n",
      " dense_19 (Dense)            (None, 64)                8256      \n",
      "                                                                 \n",
      " dense_20 (Dense)            (None, 32)                2080      \n",
      "                                                                 \n",
      " dense_21 (Dense)            (None, 1)                 33        \n",
      "                                                                 \n",
      "=================================================================\n",
      "Total params: 3,643,201\n",
      "Trainable params: 3,643,201\n",
      "Non-trainable params: 0\n",
      "_________________________________________________________________\n"
     ]
    }
   ],
   "source": [
    "model.summary()"
   ]
  },
  {
   "cell_type": "code",
   "execution_count": 29,
   "id": "3a211470-bc36-4058-a365-f9f8ea8cb778",
   "metadata": {},
   "outputs": [],
   "source": [
    "from keras.preprocessing.image import ImageDataGenerator\n"
   ]
  },
  {
   "cell_type": "code",
   "execution_count": null,
   "id": "8666c475-84c4-4e19-833a-3a2cb9c154ac",
   "metadata": {},
   "outputs": [],
   "source": [
    "train_datagen = ImageDataGenerator(rescale=1./255)\n",
    "test_datagen = ImageDataGenerator(rescale=1./255)\n",
    "validation_datagen = ImageDataGenerator(rescale=1./255)\n",
    "\n",
    "train_generator = train_datagen.flow_from_directory(train_dir,target_size=(150,150),batch_size=20,class_mode='binary')\n",
    "\n",
    "test_generator = test_datagen.flow_from_directory(test_dir,target_size=(150,150),batch_size=20,class_mode='binary')\n",
    "\n",
    "validation_generator = validation_datagen.flow_from_directory(validation_dir,target_size=(150,150),batch_size=20,class_mode='binary')"
   ]
  },
  {
   "cell_type": "code",
   "execution_count": 37,
   "id": "61d3d592-00e3-4080-acac-1830b841ea2d",
   "metadata": {},
   "outputs": [
    {
     "name": "stdout",
     "output_type": "stream",
     "text": [
      "Epoch 1/10\n",
      "100/100 [==============================] - 86s 819ms/step - loss: 0.7004 - auc: 0.5240 - val_loss: 0.6883 - val_auc: 0.6694\n",
      "Epoch 2/10\n",
      "100/100 [==============================] - 74s 739ms/step - loss: 0.6892 - auc: 0.5790 - val_loss: 0.6790 - val_auc: 0.6312\n",
      "Epoch 3/10\n",
      "100/100 [==============================] - 64s 642ms/step - loss: 0.6621 - auc: 0.6338 - val_loss: 0.6504 - val_auc: 0.6958\n",
      "Epoch 4/10\n",
      "100/100 [==============================] - 61s 611ms/step - loss: 0.6602 - auc: 0.6506 - val_loss: 0.6472 - val_auc: 0.6864\n",
      "Epoch 5/10\n",
      "100/100 [==============================] - 58s 580ms/step - loss: 0.6454 - auc: 0.6942 - val_loss: 0.6057 - val_auc: 0.7589\n",
      "Epoch 6/10\n",
      "100/100 [==============================] - 53s 528ms/step - loss: 0.6172 - auc: 0.7192 - val_loss: 0.5951 - val_auc: 0.7608\n",
      "Epoch 7/10\n",
      "100/100 [==============================] - 49s 490ms/step - loss: 0.5836 - auc: 0.7609 - val_loss: 0.5836 - val_auc: 0.7682\n",
      "Epoch 8/10\n",
      "100/100 [==============================] - 48s 481ms/step - loss: 0.5805 - auc: 0.7655 - val_loss: 0.5969 - val_auc: 0.7690\n",
      "Epoch 9/10\n",
      "100/100 [==============================] - 48s 483ms/step - loss: 0.5580 - auc: 0.7914 - val_loss: 0.6179 - val_auc: 0.7456\n",
      "Epoch 10/10\n",
      "100/100 [==============================] - 47s 471ms/step - loss: 0.5640 - auc: 0.7840 - val_loss: 0.4983 - val_auc: 0.8383\n"
     ]
    },
    {
     "data": {
      "text/plain": [
       "<keras.callbacks.History at 0x29929b16f80>"
      ]
     },
     "execution_count": 37,
     "metadata": {},
     "output_type": "execute_result"
    }
   ],
   "source": [
    "import keras\n",
    "model.compile(loss='binary_crossentropy',optimizer= keras.optimizers.RMSprop(learning_rate = 0.001),metrics=['AUC'])\n",
    "\n",
    "model.fit(train_generator,steps_per_epoch=100,epochs=10,validation_data=validation_generator,validation_steps=50)"
   ]
  },
  {
   "cell_type": "code",
   "execution_count": 39,
   "id": "cd69029b-d402-4927-b520-3d9d86ecd26e",
   "metadata": {},
   "outputs": [
    {
     "name": "stderr",
     "output_type": "stream",
     "text": [
      "C:\\Users\\Immanuel\\AppData\\Local\\Temp\\ipykernel_27816\\935251960.py:1: UserWarning: `Model.predict_generator` is deprecated and will be removed in a future version. Please use `Model.predict`, which supports generators.\n",
      "  train_pred = model.predict_generator(train_generator)\n"
     ]
    }
   ],
   "source": [
    "train_pred = model.predict_generator(train_generator)"
   ]
  },
  {
   "cell_type": "code",
   "execution_count": 41,
   "id": "e0a3ad31-501c-426e-97de-2d54a61245f0",
   "metadata": {},
   "outputs": [],
   "source": [
    "train_class = [1 if i >0.5 else 0 for i in train_pred]"
   ]
  },
  {
   "cell_type": "code",
   "execution_count": 42,
   "id": "10440eda-4d5e-4c61-aa2b-0ae4b7c76db7",
   "metadata": {},
   "outputs": [],
   "source": [
    "from sklearn.metrics import *"
   ]
  },
  {
   "cell_type": "code",
   "execution_count": 43,
   "id": "3521cb0a-899c-4ac2-8095-13fc8353cf9c",
   "metadata": {},
   "outputs": [
    {
     "data": {
      "text/plain": [
       "'              precision    recall  f1-score   support\\n\\n           0       0.58      0.50      0.54      8690\\n           1       0.42      0.50      0.46      6310\\n\\n    accuracy                           0.50     15000\\n   macro avg       0.50      0.50      0.50     15000\\nweighted avg       0.51      0.50      0.50     15000\\n'"
      ]
     },
     "execution_count": 43,
     "metadata": {},
     "output_type": "execute_result"
    }
   ],
   "source": [
    "classification_report(train_class,train_generator.labels)"
   ]
  },
  {
   "cell_type": "code",
   "execution_count": 44,
   "id": "523d766e-fded-4c8e-aef8-0f935476305d",
   "metadata": {},
   "outputs": [
    {
     "name": "stderr",
     "output_type": "stream",
     "text": [
      "C:\\Users\\Immanuel\\AppData\\Local\\Temp\\ipykernel_27816\\2403009685.py:1: UserWarning: `Model.predict_generator` is deprecated and will be removed in a future version. Please use `Model.predict`, which supports generators.\n",
      "  test_pred = model.predict_generator(test_generator)\n"
     ]
    }
   ],
   "source": [
    "test_pred = model.predict_generator(test_generator)"
   ]
  },
  {
   "cell_type": "code",
   "execution_count": 45,
   "id": "489d614e-083e-4076-85a6-31c2966a583f",
   "metadata": {},
   "outputs": [
    {
     "data": {
      "text/plain": [
       "'              precision    recall  f1-score   support\\n\\n           0       0.56      0.50      0.53      2816\\n           1       0.43      0.50      0.46      2184\\n\\n    accuracy                           0.50      5000\\n   macro avg       0.50      0.50      0.50      5000\\nweighted avg       0.51      0.50      0.50      5000\\n'"
      ]
     },
     "execution_count": 45,
     "metadata": {},
     "output_type": "execute_result"
    }
   ],
   "source": [
    "test_class = [1 if i >0.5 else 0 for i in test_pred]\n",
    "classification_report(test_class,test_generator.labels)"
   ]
  },
  {
   "cell_type": "code",
   "execution_count": 46,
   "id": "f8ded007-e827-4757-9754-6ad9511e68aa",
   "metadata": {},
   "outputs": [
    {
     "name": "stdout",
     "output_type": "stream",
     "text": [
      "Epoch 1/10\n",
      "100/100 [==============================] - 50s 455ms/step - loss: 183.8660 - auc: 0.4906 - val_loss: 0.6934 - val_auc: 0.5000\n",
      "Epoch 2/10\n",
      "100/100 [==============================] - 43s 431ms/step - loss: 0.6940 - auc: 0.4813 - val_loss: 0.6928 - val_auc: 0.5000\n",
      "Epoch 3/10\n",
      "100/100 [==============================] - 44s 443ms/step - loss: 0.6937 - auc: 0.4851 - val_loss: 0.6933 - val_auc: 0.5000\n",
      "Epoch 4/10\n",
      "100/100 [==============================] - 44s 437ms/step - loss: 0.6927 - auc: 0.4651 - val_loss: 0.6943 - val_auc: 0.5000\n",
      "Epoch 5/10\n",
      "100/100 [==============================] - 39s 392ms/step - loss: 0.6932 - auc: 0.4831 - val_loss: 0.6924 - val_auc: 0.5000\n",
      "Epoch 6/10\n",
      "100/100 [==============================] - 46s 458ms/step - loss: 0.6936 - auc: 0.4848 - val_loss: 0.6945 - val_auc: 0.5000\n",
      "Epoch 7/10\n",
      "100/100 [==============================] - 39s 392ms/step - loss: 0.6936 - auc: 0.4941 - val_loss: 0.6935 - val_auc: 0.5000\n",
      "Epoch 8/10\n",
      "100/100 [==============================] - 37s 374ms/step - loss: 0.6936 - auc: 0.4737 - val_loss: 0.6929 - val_auc: 0.5000\n",
      "Epoch 9/10\n",
      "100/100 [==============================] - 43s 425ms/step - loss: 0.6935 - auc: 0.4805 - val_loss: 0.6932 - val_auc: 0.5000\n",
      "Epoch 10/10\n",
      "100/100 [==============================] - 38s 374ms/step - loss: 0.6936 - auc: 0.4793 - val_loss: 0.6932 - val_auc: 0.5000\n",
      "Epoch 1/10\n",
      "100/100 [==============================] - 47s 434ms/step - loss: 0.7130 - auc: 0.4820 - val_loss: 0.6920 - val_auc: 0.5000\n",
      "Epoch 2/10\n",
      "100/100 [==============================] - 40s 400ms/step - loss: 0.6957 - auc: 0.4969 - val_loss: 0.6906 - val_auc: 0.6113\n",
      "Epoch 3/10\n",
      "100/100 [==============================] - 41s 413ms/step - loss: 0.6825 - auc: 0.5878 - val_loss: 0.6359 - val_auc: 0.7039\n",
      "Epoch 4/10\n",
      "100/100 [==============================] - 40s 395ms/step - loss: 0.6702 - auc: 0.6382 - val_loss: 0.6417 - val_auc: 0.6961\n",
      "Epoch 5/10\n",
      "100/100 [==============================] - 38s 383ms/step - loss: 0.6604 - auc: 0.6605 - val_loss: 0.6090 - val_auc: 0.7252\n",
      "Epoch 6/10\n",
      "100/100 [==============================] - 42s 417ms/step - loss: 0.6350 - auc: 0.7035 - val_loss: 0.6871 - val_auc: 0.6778\n",
      "Epoch 7/10\n",
      "100/100 [==============================] - 44s 439ms/step - loss: 0.5969 - auc: 0.7455 - val_loss: 0.6048 - val_auc: 0.7731\n",
      "Epoch 8/10\n",
      "100/100 [==============================] - 39s 393ms/step - loss: 0.6025 - auc: 0.7475 - val_loss: 0.5420 - val_auc: 0.8227\n",
      "Epoch 9/10\n",
      "100/100 [==============================] - 45s 455ms/step - loss: 0.5701 - auc: 0.7772 - val_loss: 0.5638 - val_auc: 0.7868\n",
      "Epoch 10/10\n",
      "100/100 [==============================] - 49s 494ms/step - loss: 0.5846 - auc: 0.7711 - val_loss: 0.5552 - val_auc: 0.8030\n",
      "Epoch 1/10\n",
      "100/100 [==============================] - 49s 456ms/step - loss: 0.6919 - auc: 0.5248 - val_loss: 0.6889 - val_auc: 0.6955\n",
      "Epoch 2/10\n",
      "100/100 [==============================] - 40s 399ms/step - loss: 0.6855 - auc: 0.5817 - val_loss: 0.6891 - val_auc: 0.7177\n",
      "Epoch 3/10\n",
      "100/100 [==============================] - 45s 449ms/step - loss: 0.6621 - auc: 0.6472 - val_loss: 0.6832 - val_auc: 0.7030\n",
      "Epoch 4/10\n",
      "100/100 [==============================] - 45s 449ms/step - loss: 0.6239 - auc: 0.7113 - val_loss: 0.6224 - val_auc: 0.7354\n",
      "Epoch 5/10\n",
      "100/100 [==============================] - 33s 328ms/step - loss: 0.6047 - auc: 0.7342 - val_loss: 0.6209 - val_auc: 0.7282\n",
      "Epoch 6/10\n",
      "100/100 [==============================] - 30s 305ms/step - loss: 0.5886 - auc: 0.7519 - val_loss: 0.6156 - val_auc: 0.7730\n",
      "Epoch 7/10\n",
      "100/100 [==============================] - 31s 312ms/step - loss: 0.5709 - auc: 0.7700 - val_loss: 0.5805 - val_auc: 0.7734\n",
      "Epoch 8/10\n",
      "100/100 [==============================] - 33s 330ms/step - loss: 0.5614 - auc: 0.7864 - val_loss: 0.7027 - val_auc: 0.8072\n",
      "Epoch 9/10\n",
      "100/100 [==============================] - 32s 318ms/step - loss: 0.5452 - auc: 0.7953 - val_loss: 0.5412 - val_auc: 0.8025\n",
      "Epoch 10/10\n",
      "100/100 [==============================] - 28s 281ms/step - loss: 0.5406 - auc: 0.8045 - val_loss: 0.5498 - val_auc: 0.8072\n"
     ]
    }
   ],
   "source": [
    "model_name = ['model_lr%f'%i for i in [0.01,0.001,0.0001]]\n",
    "model_dfs = {}\n",
    "for i,j in zip(model_name,[0.01,0.001,0.0001]):\n",
    "    model_dfs[i] = models.Sequential()\n",
    "    model_dfs[i].add(layers.Conv2D(32,(3,3),activation='relu',input_shape =(150,150,3)))\n",
    "    \n",
    "    model_dfs[i].add(layers.MaxPooling2D(2,2))\n",
    "    model_dfs[i].add(layers.Conv2D(64,(3,3),activation='relu'))\n",
    "    model_dfs[i].add(layers.MaxPooling2D(2,2))\n",
    "    model_dfs[i].add(layers.Conv2D(128,(3,3),activation='relu'))\n",
    "    model_dfs[i].add(layers.MaxPooling2D(2,2))\n",
    "    model_dfs[i].add(layers.Conv2D(256,(3,3),activation='relu'))\n",
    "    model_dfs[i].add(layers.MaxPooling2D(2,2))\n",
    "    model_dfs[i].add(layers.Flatten())\n",
    "    model_dfs[i].add(layers.Dense(256, activation='relu'))\n",
    "    model_dfs[i].add(layers.Dense(128, activation='relu'))\n",
    "    model_dfs[i].add(layers.Dense(64, activation='relu'))\n",
    "    model_dfs[i].add(layers.Dense(32, activation='relu'))\n",
    "    model_dfs[i].add(layers.Dense(1, activation='sigmoid'))\n",
    "    model_dfs[i].compile(loss='binary_crossentropy',optimizer= keras.optimizers.RMSprop(learning_rate = j),metrics=['AUC'])\n",
    "\n",
    "    model_dfs[i].fit(train_generator,steps_per_epoch=100,epochs=10,validation_data=validation_generator,validation_steps=50)"
   ]
  },
  {
   "cell_type": "code",
   "execution_count": null,
   "id": "76e68282-370e-41de-b09b-88efb1d4da7e",
   "metadata": {},
   "outputs": [],
   "source": []
  }
 ],
 "metadata": {
  "kernelspec": {
   "display_name": "Python 3 (ipykernel)",
   "language": "python",
   "name": "python3"
  },
  "language_info": {
   "codemirror_mode": {
    "name": "ipython",
    "version": 3
   },
   "file_extension": ".py",
   "mimetype": "text/x-python",
   "name": "python",
   "nbconvert_exporter": "python",
   "pygments_lexer": "ipython3",
   "version": "3.10.13"
  }
 },
 "nbformat": 4,
 "nbformat_minor": 5
}
